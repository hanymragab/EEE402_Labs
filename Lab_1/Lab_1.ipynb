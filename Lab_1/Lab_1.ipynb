{
  "cells": [
    {
      "cell_type": "markdown",
      "metadata": {},
      "source": [
        "# EEE402 – Lab 1\n",
        "\n",
        "This is a starter notebook. Replace or extend as needed.\n",
        "\n",
        "**Instructions:** Run the setup cell below to clone/update the course repo and set the working directory to `Lab_1`.\n"
      ]
    },
    {
      "cell_type": "code",
      "metadata": {
        "trusted": true
      },
      "execution_count": null,
      "outputs": [],
      "source": [
        "# --- Setup: clone (or update) course repo and cd to Lab_1 ---\n",
        "import os, subprocess, sys\n",
        "REPO_URL = \"https://github.com/hanymragab/EEE402_Labs.git\"\n",
        "TARGET_DIR = \"/content/EEE402_Labs\"\n",
        "\n",
        "if not os.path.exists(TARGET_DIR):\n",
        "    # Fresh clone\n",
        "    subprocess.run([\"git\", \"clone\", REPO_URL, TARGET_DIR], check=True)\n",
        "else:\n",
        "    # Update existing clone\n",
        "    subprocess.run([\"git\", \"-C\", TARGET_DIR, \"pull\"], check=True)\n",
        "\n",
        "os.chdir(os.path.join(TARGET_DIR, \"Lab_1\"))\n",
        "print(\"Current working directory:\", os.getcwd())\n"
      ]
    },
    {
      "cell_type": "code",
      "metadata": {
        "trusted": true
      },
      "execution_count": null,
      "outputs": [],
      "source": [
        "# Your Lab 1 code starts here\n",
        "print(\"Lab 1 notebook is ready.\")\n"
      ]
    }
  ],
  "metadata": {
    "kernelspec": {
      "display_name": "Python 3",
      "language": "python",
      "name": "python3"
    },
    "language_info": {
      "name": "python",
      "version": "3.x"
    },
    "colab": {
      "name": "Lab_1.ipynb",
      "provenance": []
    }
  },
  "nbformat": 4,
  "nbformat_minor": 5
}