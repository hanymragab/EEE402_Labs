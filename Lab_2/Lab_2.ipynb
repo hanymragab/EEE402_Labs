{
  "cells": [
    {
      "cell_type": "markdown",
      "metadata": {
        "id": "view-in-github",
        "colab_type": "text"
      },
      "source": [
        "<a href=\"https://colab.research.google.com/github/hanymragab/EEE402_Labs/blob/main/Lab_1/Lab_1.ipynb\" target=\"_parent\"><img src=\"https://colab.research.google.com/assets/colab-badge.svg\" alt=\"Open In Colab\"/></a>"
      ]
    },
    {
      "cell_type": "markdown",
      "metadata": {
        "id": "dwhEcgJ6HxVJ"
      },
      "source": [
        "# EEE402 – Lab 1\n",
        "\n",
        "This is a starter notebook. Replace or extend as needed.\n",
        "\n",
        "**Instructions:** Run the setup cell below to clone/update the course repo and set the working directory to `Lab_1`.\n"
      ],
      "id": "dwhEcgJ6HxVJ"
    },
    {
      "cell_type": "code",
      "source": [
        "from google.colab import drive\n",
        "drive.mount('/content/drive')"
      ],
      "metadata": {
        "id": "zhqLp52iH4LR",
        "outputId": "09763762-2a5c-4948-be76-260fe5eb9b28",
        "colab": {
          "base_uri": "https://localhost:8080/"
        }
      },
      "id": "zhqLp52iH4LR",
      "execution_count": 1,
      "outputs": [
        {
          "output_type": "stream",
          "name": "stdout",
          "text": [
            "Mounted at /content/drive\n"
          ]
        }
      ]
    },
    {
      "cell_type": "code",
      "metadata": {
        "trusted": true,
        "id": "hEGg669YHxVK",
        "outputId": "190443da-9c47-4599-f901-d1f8a3a93d02",
        "colab": {
          "base_uri": "https://localhost:8080/"
        }
      },
      "execution_count": 2,
      "outputs": [
        {
          "output_type": "stream",
          "name": "stdout",
          "text": [
            "Current working directory: /content/EEE402_Labs/Lab_1\n"
          ]
        }
      ],
      "source": [
        "# --- Setup: clone (or update) course repo and cd to Lab_1 ---\n",
        "import os, subprocess, sys\n",
        "REPO_URL = \"https://github.com/hanymragab/EEE402_Labs.git\"\n",
        "TARGET_DIR = \"/content/EEE402_Labs\"\n",
        "\n",
        "if not os.path.exists(TARGET_DIR):\n",
        "    # Fresh clone\n",
        "    subprocess.run([\"git\", \"clone\", REPO_URL, TARGET_DIR], check=True)\n",
        "else:\n",
        "    # Update existing clone\n",
        "    subprocess.run([\"git\", \"-C\", TARGET_DIR, \"pull\"], check=True)\n",
        "\n",
        "os.chdir(os.path.join(TARGET_DIR, \"Lab_1\"))\n",
        "print(\"Current working directory:\", os.getcwd())\n"
      ],
      "id": "hEGg669YHxVK"
    },
    {
      "cell_type": "code",
      "source": [
        "!ls -lah  # sanity check: should list mpg.csv"
      ],
      "metadata": {
        "id": "qa6mdOlYMTJg",
        "outputId": "b9683a18-f12c-460a-a9b9-60c3b1df2b5d",
        "colab": {
          "base_uri": "https://localhost:8080/"
        }
      },
      "id": "qa6mdOlYMTJg",
      "execution_count": 3,
      "outputs": [
        {
          "output_type": "stream",
          "name": "stdout",
          "text": [
            "total 32K\n",
            "drwxr-xr-x  2 root root 4.0K Sep 16 01:43 .\n",
            "drwxr-xr-x 11 root root 4.0K Sep 16 01:43 ..\n",
            "-rw-r--r--  1 root root 1.8K Sep 16 01:43 Lab_1.ipynb\n",
            "-rw-r--r--  1 root root  17K Sep 16 01:43 mpg.csv\n"
          ]
        }
      ]
    },
    {
      "cell_type": "code",
      "metadata": {
        "trusted": true,
        "id": "rBoB04ofHxVM"
      },
      "execution_count": null,
      "outputs": [],
      "source": [
        "# Your Lab 1 code starts here\n",
        "print(\"Lab 1 notebook is ready.\")\n"
      ],
      "id": "rBoB04ofHxVM"
    }
  ],
  "metadata": {
    "kernelspec": {
      "display_name": "Python 3",
      "language": "python",
      "name": "python3"
    },
    "language_info": {
      "name": "python",
      "version": "3.x"
    },
    "colab": {
      "name": "Lab_1.ipynb",
      "provenance": [],
      "include_colab_link": true
    }
  },
  "nbformat": 4,
  "nbformat_minor": 5
}